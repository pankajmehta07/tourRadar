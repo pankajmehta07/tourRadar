{
 "cells": [
  {
   "cell_type": "code",
   "execution_count": 25,
   "id": "c29c6c15",
   "metadata": {},
   "outputs": [],
   "source": [
    "langauges = \"nepali, maithili\""
   ]
  },
  {
   "cell_type": "code",
   "execution_count": 37,
   "id": "9b646421",
   "metadata": {},
   "outputs": [
    {
     "name": "stdout",
     "output_type": "stream",
     "text": [
      "nepali\n",
      " maithili\n"
     ]
    },
    {
     "data": {
      "text/plain": [
       "set()"
      ]
     },
     "execution_count": 37,
     "metadata": {},
     "output_type": "execute_result"
    }
   ],
   "source": [
    "key = set()\n",
    "for x in langauges.split(','): print(x)\n",
    "key"
   ]
  },
  {
   "cell_type": "code",
   "execution_count": 28,
   "id": "6f340b7f",
   "metadata": {},
   "outputs": [],
   "source": []
  },
  {
   "cell_type": "code",
   "execution_count": 30,
   "id": "214a0c95",
   "metadata": {},
   "outputs": [
    {
     "data": {
      "text/plain": [
       "{'maithili'}"
      ]
     },
     "execution_count": 30,
     "metadata": {},
     "output_type": "execute_result"
    }
   ],
   "source": [
    "key"
   ]
  },
  {
   "cell_type": "code",
   "execution_count": 16,
   "id": "36e8f363",
   "metadata": {},
   "outputs": [
    {
     "name": "stdout",
     "output_type": "stream",
     "text": [
      "{'JavaScript', 'Python', 'C++', 'Java'}\n"
     ]
    }
   ],
   "source": [
    "languages = \"Python,Java,JavaScript,C++\"  # Example comma-separated string\n",
    "languages_list = languages.split(',')\n",
    "\n",
    "unique_languages = set()\n",
    "\n",
    "for language in languages_list:\n",
    "    unique_languages.add(language.strip())  # Strip to remove any surrounding whitespace\n",
    "\n",
    "print(unique_languages)\n"
   ]
  },
  {
   "cell_type": "code",
   "execution_count": null,
   "id": "385e2829",
   "metadata": {},
   "outputs": [],
   "source": []
  }
 ],
 "metadata": {
  "kernelspec": {
   "display_name": "Python 3 (ipykernel)",
   "language": "python",
   "name": "python3"
  },
  "language_info": {
   "codemirror_mode": {
    "name": "ipython",
    "version": 3
   },
   "file_extension": ".py",
   "mimetype": "text/x-python",
   "name": "python",
   "nbconvert_exporter": "python",
   "pygments_lexer": "ipython3",
   "version": "3.10.12"
  }
 },
 "nbformat": 4,
 "nbformat_minor": 5
}
